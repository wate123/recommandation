{
 "cells": [
  {
   "cell_type": "code",
   "execution_count": 1,
   "metadata": {
    "collapsed": true
   },
   "outputs": [],
   "source": [
    "class Table(dict):\n",
    "    \n",
    "    def __init__(self):\n",
    "        self.users_for_movie = {}\n",
    "        self.movies_for_user = {}\n",
    "    \n",
    "    def set(self, u, m, r):\n",
    "        self[(u, m)] = r\n",
    "        # add code to update users_for_movie and movies_for_user  \n",
    "        \n",
    "    def read(self, u, m):\n",
    "        return self.get((u, m), None)\n",
    "           \n",
    "    def get_users_for_movie(self, m):\n",
    "        return self.users_for_movie.get(m, None)\n",
    "        \n",
    "    def get_movies_for_user(self, u):\n",
    "        return self.movies_for_user.get(u, None)"
   ]
  },
  {
   "cell_type": "code",
   "execution_count": 2,
   "metadata": {
    "collapsed": true
   },
   "outputs": [],
   "source": [
    "T_data = Table()"
   ]
  },
  {
   "cell_type": "code",
   "execution_count": 4,
   "metadata": {
    "collapsed": true
   },
   "outputs": [],
   "source": [
    "for l in open('u1.base', 'r'):\n",
    "    u, m, r = [int(x) for x in l.rstrip().split('\\t')][:3]\n",
    "    # add code to put data into your table\n",
    "    # in the mean time, use a list to hold all the user ids and movie ids"
   ]
  },
  {
   "cell_type": "code",
   "execution_count": 5,
   "metadata": {
    "collapsed": false
   },
   "outputs": [
    {
     "ename": "NameError",
     "evalue": "name 'n_movie' is not defined",
     "output_type": "error",
     "traceback": [
      "\u001b[0;31m---------------------------------------------------------------------------\u001b[0m",
      "\u001b[0;31mNameError\u001b[0m                                 Traceback (most recent call last)",
      "\u001b[0;32m<ipython-input-5-b98570273807>\u001b[0m in \u001b[0;36m<module>\u001b[0;34m()\u001b[0m\n\u001b[1;32m     13\u001b[0m     \u001b[0;32mreturn\u001b[0m \u001b[0mT\u001b[0m\u001b[0;34m\u001b[0m\u001b[0m\n\u001b[1;32m     14\u001b[0m \u001b[0;34m\u001b[0m\u001b[0m\n\u001b[0;32m---> 15\u001b[0;31m \u001b[0mT_adj\u001b[0m \u001b[0;34m=\u001b[0m \u001b[0mmake_adj_table\u001b[0m\u001b[0;34m(\u001b[0m\u001b[0mT_data\u001b[0m\u001b[0;34m,\u001b[0m \u001b[0mn_movie\u001b[0m\u001b[0;34m)\u001b[0m\u001b[0;34m\u001b[0m\u001b[0m\n\u001b[0m",
      "\u001b[0;31mNameError\u001b[0m: name 'n_movie' is not defined"
     ]
    }
   ],
   "source": [
    "import numpy as np\n",
    "# T_data: the data table\n",
    "# n_movie: the max movie id\n",
    "def make_adj_table(T_data, n_movie):\n",
    "    T = 1e8*np.ones(shape=(n_movie+1, n_movie+1))\n",
    "    for i in range(1, n_movie):\n",
    "        ui = T_data.get_users_for_movie(i)\n",
    "        for j in range(i+1, n_movie+1):\n",
    "            uj = T_data.get_users_for_movie(j)\n",
    "\n",
    "            # calculate adjustment that is need to predict rating for movie j using ratings for movie i\n",
    "            \n",
    "    return T\n",
    "\n",
    "T_adj = make_adj_table(T_data, n_movie)"
   ]
  },
  {
   "cell_type": "code",
   "execution_count": null,
   "metadata": {
    "collapsed": true
   },
   "outputs": [],
   "source": [
    "fout = open('u.predict', 'w')\n",
    "for l in open('u.test', 'r'):\n",
    "    u, m = [int(x) for x in l.rstrip().split('\\t')][:2]\n",
    "    mm = T_data.get_movies_for_user(u)\n",
    "    predict = 0.0\n",
    "    n = 0\n",
    "    \n",
    "    # predict rating for movie m using movies in the set \"mm\"\n",
    "    \n",
    "    fout.write('{user}\\t{movie}\\t{predict:.2f}\\n'.format(user=u, movie=m, predict=predict))\n",
    "fout.close()"
   ]
  },
  {
   "cell_type": "code",
   "execution_count": null,
   "metadata": {
    "collapsed": true
   },
   "outputs": [],
   "source": []
  }
 ],
 "metadata": {
  "anaconda-cloud": {},
  "kernelspec": {
   "display_name": "Python [default]",
   "language": "python",
   "name": "python3"
  },
  "language_info": {
   "codemirror_mode": {
    "name": "ipython",
    "version": 3
   },
   "file_extension": ".py",
   "mimetype": "text/x-python",
   "name": "python",
   "nbconvert_exporter": "python",
   "pygments_lexer": "ipython3",
   "version": "3.5.2"
  }
 },
 "nbformat": 4,
 "nbformat_minor": 1
}
