{
 "cells": [
  {
   "cell_type": "code",
   "execution_count": 1,
   "metadata": {
    "collapsed": true
   },
   "outputs": [],
   "source": [
    "class Table(dict):\n",
    "    def __init__(self):\n",
    "        self.users_for_movie = {}\n",
    "        self.movies_for_user = {}\n",
    "\n",
    "    def set(self, u, m, r):\n",
    "        self[(u, m)] = r\n",
    "        # add code to update users_for_movie and movies_for_user  \n",
    "        self.users_for_movie[u] = u\n",
    "        self.movies_for_user[m] = m\n",
    "\n",
    "    def read(self, u, m):\n",
    "        return self.get((u, m), None)\n",
    "\n",
    "    def get_users_for_movie(self, m):\n",
    "        return self.users_for_movie.get(m, None)\n",
    "\n",
    "    def get_movies_for_user(self, u):\n",
    "        return self.movies_for_user.get(u, None)"
   ]
  },
  {
   "cell_type": "code",
   "execution_count": 2,
   "metadata": {
    "collapsed": true
   },
   "outputs": [],
   "source": [
    "T_data = Table()\n",
    "um_id = []"
   ]
  },
  {
   "cell_type": "code",
   "execution_count": 4,
   "metadata": {
    "collapsed": true
   },
   "outputs": [],
   "source": [
    "for l in open('u1.base', 'r'):\n",
    "    u, m, r = [int(x) for x in l.rstrip().split('\\t')][:3]\n",
    "    # add code to put data into your table\n",
    "    T_data.set(u, m, r)\n",
    "    # in the mean time, use a list to hold all the user ids and movie ids\n",
    "    um_id.append([u, m])"
   ]
  },
  {
   "cell_type": "code",
   "execution_count": 7,
   "metadata": {},
   "outputs": [
    {
     "name": "stdout",
     "output_type": "stream",
     "text": [
      "\n",
      "\n"
     ]
    }
   ],
   "source": [
    "import numpy as np\n",
    "\n",
    "\n",
    "# T_data: the data table\n",
    "# n_movie: the max movie id\n",
    "\n",
    "\n",
    "def make_adj_table(T_data, n_movie):\n",
    "    T = 1e8 * np.ones(shape=(n_movie + 1, n_movie + 1))\n",
    "    for i in range(1, n_movie):\n",
    "        ui = T_data.get_users_for_movie(i)\n",
    "        for j in range(i + 1, n_movie + 1):\n",
    "            uj = T_data.get_users_for_movie(j)\n",
    "            # calculate adjustment that is need to predict rating for movie j using ratings for movie i\n",
    "            at = (ui + uj) / 2\n",
    "    return T\n",
    "\n",
    "\n",
    "def get_last_line():\n",
    "    f1 = open('u.item', \"r\")\n",
    "    last_line = f1.readline()\n",
    "    var = last_line[len(last_line) - 1]\n",
    "    f1.close()\n",
    "    return var\n",
    "\n",
    "print(get_last_line())"
   ]
  },
  {
   "cell_type": "code",
   "execution_count": 2,
   "metadata": {},
   "outputs": [
    {
     "ename": "NameError",
     "evalue": "name 'T_data' is not defined",
     "output_type": "error",
     "traceback": [
      "\u001b[0;31m---------------------------------------------------------------------------\u001b[0m",
      "\u001b[0;31mNameError\u001b[0m                                 Traceback (most recent call last)",
      "\u001b[0;32m<ipython-input-2-8605b9d0af0c>\u001b[0m in \u001b[0;36m<module>\u001b[0;34m()\u001b[0m\n\u001b[1;32m      2\u001b[0m \u001b[0;32mfor\u001b[0m \u001b[0ml\u001b[0m \u001b[0;32min\u001b[0m \u001b[0mopen\u001b[0m\u001b[0;34m(\u001b[0m\u001b[0;34m'u1.test'\u001b[0m\u001b[0;34m,\u001b[0m \u001b[0;34m'r'\u001b[0m\u001b[0;34m)\u001b[0m\u001b[0;34m:\u001b[0m\u001b[0;34m\u001b[0m\u001b[0m\n\u001b[1;32m      3\u001b[0m     \u001b[0mu\u001b[0m\u001b[0;34m,\u001b[0m \u001b[0mm\u001b[0m \u001b[0;34m=\u001b[0m \u001b[0;34m[\u001b[0m\u001b[0mint\u001b[0m\u001b[0;34m(\u001b[0m\u001b[0mx\u001b[0m\u001b[0;34m)\u001b[0m \u001b[0;32mfor\u001b[0m \u001b[0mx\u001b[0m \u001b[0;32min\u001b[0m \u001b[0ml\u001b[0m\u001b[0;34m.\u001b[0m\u001b[0mrstrip\u001b[0m\u001b[0;34m(\u001b[0m\u001b[0;34m)\u001b[0m\u001b[0;34m.\u001b[0m\u001b[0msplit\u001b[0m\u001b[0;34m(\u001b[0m\u001b[0;34m'\\t'\u001b[0m\u001b[0;34m)\u001b[0m\u001b[0;34m]\u001b[0m\u001b[0;34m[\u001b[0m\u001b[0;34m:\u001b[0m\u001b[0;36m2\u001b[0m\u001b[0;34m]\u001b[0m\u001b[0;34m\u001b[0m\u001b[0m\n\u001b[0;32m----> 4\u001b[0;31m     \u001b[0mmm\u001b[0m \u001b[0;34m=\u001b[0m \u001b[0mT_data\u001b[0m\u001b[0;34m.\u001b[0m\u001b[0mget_movies_for_user\u001b[0m\u001b[0;34m(\u001b[0m\u001b[0mu\u001b[0m\u001b[0;34m)\u001b[0m\u001b[0;34m\u001b[0m\u001b[0m\n\u001b[0m\u001b[1;32m      5\u001b[0m     \u001b[0mpredict\u001b[0m \u001b[0;34m=\u001b[0m \u001b[0;36m0.0\u001b[0m\u001b[0;34m\u001b[0m\u001b[0m\n\u001b[1;32m      6\u001b[0m     \u001b[0mn\u001b[0m \u001b[0;34m=\u001b[0m \u001b[0;36m0\u001b[0m\u001b[0;34m\u001b[0m\u001b[0m\n",
      "\u001b[0;31mNameError\u001b[0m: name 'T_data' is not defined"
     ]
    }
   ],
   "source": [
    "fout = open('u.predict', 'w')\n",
    "for l in open('u1.test', 'r'):\n",
    "    u, m = [int(x) for x in l.rstrip().split('\\t')][:2]\n",
    "    mm = T_data.get_movies_for_user(u)\n",
    "    predict = 0.0\n",
    "    n = 0\n",
    "    \n",
    "    # predict rating for movie m using movies in the set \"mm\"\n",
    "    \n",
    "    fout.write('{user}\\t{movie}\\t{predict:.2f}\\n'.format(user=u, movie=m, predict=predict))\n",
    "fout.close()"
   ]
  },
  {
   "cell_type": "code",
   "execution_count": null,
   "metadata": {
    "collapsed": true
   },
   "outputs": [],
   "source": []
  }
 ],
 "metadata": {
  "anaconda-cloud": {},
  "kernelspec": {
   "display_name": "Python 3",
   "language": "python",
   "name": "python3"
  },
  "language_info": {
   "codemirror_mode": {
    "name": "ipython",
    "version": 3
   },
   "file_extension": ".py",
   "mimetype": "text/x-python",
   "name": "python",
   "nbconvert_exporter": "python",
   "pygments_lexer": "ipython3",
   "version": "3.6.3"
  }
 },
 "nbformat": 4,
 "nbformat_minor": 1
}
